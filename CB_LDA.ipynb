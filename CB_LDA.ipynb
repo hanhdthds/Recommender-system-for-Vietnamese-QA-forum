{
  "cells": [
    {
      "cell_type": "markdown",
      "source": [
        "# Note: Modify the paths to the relevant data."
      ],
      "metadata": {
        "id": "ypJeZOJ4kcKC"
      }
    },
    {
      "cell_type": "markdown",
      "metadata": {
        "id": "0tZZLuo553NG"
      },
      "source": [
        "# 1. Import packages"
      ]
    },
    {
      "cell_type": "code",
      "execution_count": null,
      "metadata": {
        "id": "IWBgEaZn5ShF"
      },
      "outputs": [],
      "source": [
        "import pandas as pd\n",
        "import numpy as np\n",
        "from sklearn.metrics.pairwise import cosine_similarity\n",
        "from sklearn.feature_extraction.text import TfidfVectorizer \n",
        "import pickle\n",
        "# Enable logging for gensim - optional\n",
        "import logging\n",
        "logging.basicConfig(format='%(asctime)s : %(levelname)s : %(message)s', level=logging.ERROR)\n",
        "\n",
        "import warnings\n",
        "warnings.filterwarnings(\"ignore\",category=DeprecationWarning)"
      ]
    },
    {
      "cell_type": "markdown",
      "metadata": {
        "id": "sCZnQIQE5_GW"
      },
      "source": [
        "# Read dataset"
      ]
    },
    {
      "cell_type": "code",
      "execution_count": null,
      "metadata": {
        "id": "f8cd6Mj85vxX"
      },
      "outputs": [],
      "source": [
        "post=pd.read_csv('/content/drive/MyDrive/DS300/RS_DA/DATA_vfo/DATASET/Cleaned/POST_cleaned.csv')\n",
        "comment=pd.read_csv('/content/drive/MyDrive/DS300/RS_DA/DATA_vfo/DATASET/Cleaned/COMMENT_cleaned.csv')\n",
        "user=pd.read_csv('/content/drive/MyDrive/DS300/RS_DA/DATA_vfo/DATASET/Cleaned/USER_cleaned.csv')\n",
        "test= pd.read_csv('/content/drive/MyDrive/DS300/RS_DA/DATA_vfo/DATASET/Test/test.csv')"
      ]
    },
    {
      "cell_type": "code",
      "source": [
        "post.iloc[:5,:]"
      ],
      "metadata": {
        "colab": {
          "base_uri": "https://localhost:8080/",
          "height": 578
        },
        "id": "qh4bzg-Q20QG",
        "outputId": "bf1433cf-797b-479d-bf0b-654900c77417"
      },
      "execution_count": null,
      "outputs": [
        {
          "output_type": "execute_result",
          "data": {
            "text/html": [
              "<div>\n",
              "<style scoped>\n",
              "    .dataframe tbody tr th:only-of-type {\n",
              "        vertical-align: middle;\n",
              "    }\n",
              "\n",
              "    .dataframe tbody tr th {\n",
              "        vertical-align: top;\n",
              "    }\n",
              "\n",
              "    .dataframe thead th {\n",
              "        text-align: right;\n",
              "    }\n",
              "</style>\n",
              "<table border=\"1\" class=\"dataframe\">\n",
              "  <thead>\n",
              "    <tr style=\"text-align: right;\">\n",
              "      <th></th>\n",
              "      <th>id_post</th>\n",
              "      <th>title_post</th>\n",
              "      <th>url_post</th>\n",
              "      <th>views</th>\n",
              "      <th>comments</th>\n",
              "      <th>content_post</th>\n",
              "      <th>tags</th>\n",
              "      <th>id_author_post</th>\n",
              "      <th>url_author_post</th>\n",
              "      <th>datePublished_post</th>\n",
              "      <th>content_post_cleaned</th>\n",
              "      <th>title_post_cleaned</th>\n",
              "      <th>tags_cleaned</th>\n",
              "    </tr>\n",
              "  </thead>\n",
              "  <tbody>\n",
              "    <tr>\n",
              "      <th>0</th>\n",
              "      <td>0</td>\n",
              "      <td>Mời ae khoe góc làm việc máy tính</td>\n",
              "      <td>https://vfo.vn//r/moi-ae-khoe-goc-lam-viec-may...</td>\n",
              "      <td>663</td>\n",
              "      <td>4</td>\n",
              "      <td>\\nMời ae khoe góc làm việc máy tính của mình t...</td>\n",
              "      <td>[]</td>\n",
              "      <td>179483</td>\n",
              "      <td>/m/0406.179483/</td>\n",
              "      <td>2021-04-07T16:25:22+0700</td>\n",
              "      <td>mời khoe góc làm_việc máy_tính thoải_mái đi mì...</td>\n",
              "      <td>mời khoe góc làm_việc máy_tính</td>\n",
              "      <td>NaN</td>\n",
              "    </tr>\n",
              "    <tr>\n",
              "      <th>1</th>\n",
              "      <td>1</td>\n",
              "      <td>Xin mời [you] hãy show tốc độ internet đang dùng</td>\n",
              "      <td>https://vfo.vn//r/xin-moi-you-hay-show-toc-do-...</td>\n",
              "      <td>16000</td>\n",
              "      <td>27</td>\n",
              "      <td>\\nGói VNPT của mình đang dùng ) còn các bạn mạ...</td>\n",
              "      <td>['internet', 'mang', 'đo tốc độ']</td>\n",
              "      <td>179483</td>\n",
              "      <td>/m/0406.179483/</td>\n",
              "      <td>2020-08-02T21:16:59+0700</td>\n",
              "      <td>gói vnpt mạng show đấu nào</td>\n",
              "      <td>mời you show tốc_độ internet</td>\n",
              "      <td>internet đo tốc_độ</td>\n",
              "    </tr>\n",
              "    <tr>\n",
              "      <th>2</th>\n",
              "      <td>2</td>\n",
              "      <td>[Góc hỏi] Các thím bao lâu rồi vẫn chưa cài lạ...</td>\n",
              "      <td>https://vfo.vn//r/goc-hoi-cac-thim-bao-lau-roi...</td>\n",
              "      <td>2000</td>\n",
              "      <td>30</td>\n",
              "      <td>\\nMình thì hơn 3 năm nay rồi mà vẫn chưa 1 lần...</td>\n",
              "      <td>['cài windows', 'hệ điều hành', 'hỏi đáp win']</td>\n",
              "      <td>179483</td>\n",
              "      <td>/m/0406.179483/</td>\n",
              "      <td>2021-03-04T14:48:45+0700</td>\n",
              "      <td>cài win máy mình vẫn ổn windows lỗi gì sử_dụng...</td>\n",
              "      <td>góc bao_lâu cài hệ điều_hành</td>\n",
              "      <td>cài windows hệ điều_hành hỏi_đáp win</td>\n",
              "    </tr>\n",
              "    <tr>\n",
              "      <th>3</th>\n",
              "      <td>3</td>\n",
              "      <td>[Hỏi nha các bạn] Các bạn hay chơi game gì nhấ...</td>\n",
              "      <td>https://vfo.vn//r/hoi-nha-cac-ban-cac-ban-hay-...</td>\n",
              "      <td>93000</td>\n",
              "      <td>66</td>\n",
              "      <td>\\nkhi rảnh thì mình hay thường chơi game Pubg ...</td>\n",
              "      <td>['giải trí', 'hỏi game', 'điện thoại']</td>\n",
              "      <td>179483</td>\n",
              "      <td>/m/0406.179483/</td>\n",
              "      <td>2019-01-01T21:25:10+0700</td>\n",
              "      <td>rảnh game pubg mobile liên_quân thì các bạn ha...</td>\n",
              "      <td>nha các bạn game điện_thoại rảnh</td>\n",
              "      <td>giải_trí game điện_thoại</td>\n",
              "    </tr>\n",
              "    <tr>\n",
              "      <th>4</th>\n",
              "      <td>11</td>\n",
              "      <td>Thiết kế khu vực nhà bếp</td>\n",
              "      <td>https://vfo.vn//r/thiet-ke-khu-vuc-nha-bep.143...</td>\n",
              "      <td>98</td>\n",
              "      <td>2</td>\n",
              "      <td>\\nChào mọi người, em đang tính decor lại khu b...</td>\n",
              "      <td>['nha bep', 'thiết kế']</td>\n",
              "      <td>468274</td>\n",
              "      <td>/m/clarita.468274/</td>\n",
              "      <td>2021-10-29T16:39:43+0700</td>\n",
              "      <td>chào decor khu bếp tiêu_chí thanh_lịch hơi_hướ...</td>\n",
              "      <td>thiết_kế khu_vực nhà_bếp</td>\n",
              "      <td>nha bep thiết_kế</td>\n",
              "    </tr>\n",
              "  </tbody>\n",
              "</table>\n",
              "</div>"
            ],
            "text/plain": [
              "   id_post  ...                          tags_cleaned\n",
              "0        0  ...                                   NaN\n",
              "1        1  ...                    internet đo tốc_độ\n",
              "2        2  ...  cài windows hệ điều_hành hỏi_đáp win\n",
              "3        3  ...              giải_trí game điện_thoại\n",
              "4       11  ...                      nha bep thiết_kế\n",
              "\n",
              "[5 rows x 13 columns]"
            ]
          },
          "metadata": {},
          "execution_count": 4
        }
      ]
    },
    {
      "cell_type": "code",
      "source": [
        "comment.iloc[:5,:]"
      ],
      "metadata": {
        "colab": {
          "base_uri": "https://localhost:8080/",
          "height": 204
        },
        "id": "1H39WDivCUGN",
        "outputId": "4b45fd07-fdfd-4cd6-b4e0-88a0cce04450"
      },
      "execution_count": null,
      "outputs": [
        {
          "output_type": "execute_result",
          "data": {
            "text/html": [
              "<div>\n",
              "<style scoped>\n",
              "    .dataframe tbody tr th:only-of-type {\n",
              "        vertical-align: middle;\n",
              "    }\n",
              "\n",
              "    .dataframe tbody tr th {\n",
              "        vertical-align: top;\n",
              "    }\n",
              "\n",
              "    .dataframe thead th {\n",
              "        text-align: right;\n",
              "    }\n",
              "</style>\n",
              "<table border=\"1\" class=\"dataframe\">\n",
              "  <thead>\n",
              "    <tr style=\"text-align: right;\">\n",
              "      <th></th>\n",
              "      <th>id_post</th>\n",
              "      <th>id_author_cmt</th>\n",
              "      <th>url_author_cmt</th>\n",
              "      <th>content_cmt</th>\n",
              "      <th>datePublished_cmt</th>\n",
              "      <th>content_cmt_cleaned</th>\n",
              "    </tr>\n",
              "  </thead>\n",
              "  <tbody>\n",
              "    <tr>\n",
              "      <th>0</th>\n",
              "      <td>0</td>\n",
              "      <td>179483</td>\n",
              "      <td>/m/0406.179483/</td>\n",
              "      <td>\\n\\nhoangdacviet:\\n\\n\\n\\n\\n\\n\\n\\nBy SvTre.com ...</td>\n",
              "      <td>2021-06-25T12:03:23+0700</td>\n",
              "      <td>hoangdacviet by svtre com llc màn đẹp thế_bác</td>\n",
              "    </tr>\n",
              "    <tr>\n",
              "      <th>1</th>\n",
              "      <td>0</td>\n",
              "      <td>179483</td>\n",
              "      <td>/m/0406.179483/</td>\n",
              "      <td>\\n\\nguongtp:\\n\\n\\n\\n\\t\\t\\tBạn dùng máy cấu hìn...</td>\n",
              "      <td>2021-06-25T12:05:06+0700</td>\n",
              "      <td>guongtp máy cấu_hình_như cấu_hình máy core i3 ...</td>\n",
              "    </tr>\n",
              "    <tr>\n",
              "      <th>2</th>\n",
              "      <td>0</td>\n",
              "      <td>466251</td>\n",
              "      <td>/m/clone-vui-tinh.466251/</td>\n",
              "      <td>Ai cũng Win10, có mình tui Win7</td>\n",
              "      <td>2021-06-25T17:42:27+0700</td>\n",
              "      <td>win10 tui win7</td>\n",
              "    </tr>\n",
              "    <tr>\n",
              "      <th>3</th>\n",
              "      <td>0</td>\n",
              "      <td>468305</td>\n",
              "      <td>/m/thien1905.468305/</td>\n",
              "      <td>\\n\\n\\n\\n\\nmình có cái bàn làm việc thật rộng.....</td>\n",
              "      <td>2021-11-01T09:10:10+0700</td>\n",
              "      <td>bàn làm_việc rộng xong mình ôm laptop giường</td>\n",
              "    </tr>\n",
              "    <tr>\n",
              "      <th>4</th>\n",
              "      <td>1</td>\n",
              "      <td>392333</td>\n",
              "      <td>/m/lammori.392333/</td>\n",
              "      <td>\\n\\n0406:\\n\\n\\n\\n\\t\\t\\tVào app My viettel xem ...</td>\n",
              "      <td>2020-09-25T10:56:51+0700</td>\n",
              "      <td>app my viettel làm_sao</td>\n",
              "    </tr>\n",
              "  </tbody>\n",
              "</table>\n",
              "</div>"
            ],
            "text/plain": [
              "   id_post  ...                                content_cmt_cleaned\n",
              "0        0  ...      hoangdacviet by svtre com llc màn đẹp thế_bác\n",
              "1        0  ...  guongtp máy cấu_hình_như cấu_hình máy core i3 ...\n",
              "2        0  ...                                     win10 tui win7\n",
              "3        0  ...       bàn làm_việc rộng xong mình ôm laptop giường\n",
              "4        1  ...                             app my viettel làm_sao\n",
              "\n",
              "[5 rows x 6 columns]"
            ]
          },
          "metadata": {},
          "execution_count": 5
        }
      ]
    },
    {
      "cell_type": "code",
      "source": [
        "user.iloc[:5,:]"
      ],
      "metadata": {
        "colab": {
          "base_uri": "https://localhost:8080/",
          "height": 204
        },
        "id": "8QoBlqIhCXZv",
        "outputId": "6b901cec-1137-4519-93fa-3bc5cc1a28f9"
      },
      "execution_count": null,
      "outputs": [
        {
          "output_type": "execute_result",
          "data": {
            "text/html": [
              "<div>\n",
              "<style scoped>\n",
              "    .dataframe tbody tr th:only-of-type {\n",
              "        vertical-align: middle;\n",
              "    }\n",
              "\n",
              "    .dataframe tbody tr th {\n",
              "        vertical-align: top;\n",
              "    }\n",
              "\n",
              "    .dataframe thead th {\n",
              "        text-align: right;\n",
              "    }\n",
              "</style>\n",
              "<table border=\"1\" class=\"dataframe\">\n",
              "  <thead>\n",
              "    <tr style=\"text-align: right;\">\n",
              "      <th></th>\n",
              "      <th>id_user</th>\n",
              "      <th>name_user</th>\n",
              "      <th>star</th>\n",
              "      <th>DateJoin</th>\n",
              "      <th>DateLastAccess</th>\n",
              "      <th>comment_count</th>\n",
              "      <th>Reaction_Score</th>\n",
              "      <th>Score</th>\n",
              "    </tr>\n",
              "  </thead>\n",
              "  <tbody>\n",
              "    <tr>\n",
              "      <th>0</th>\n",
              "      <td>179483</td>\n",
              "      <td>0406</td>\n",
              "      <td>1.0</td>\n",
              "      <td>2013-10-24T16:03:00+0700</td>\n",
              "      <td>NaN</td>\n",
              "      <td>23480</td>\n",
              "      <td>99</td>\n",
              "      <td>1132</td>\n",
              "    </tr>\n",
              "    <tr>\n",
              "      <th>1</th>\n",
              "      <td>468274</td>\n",
              "      <td>Clarita</td>\n",
              "      <td>1.0</td>\n",
              "      <td>2021-10-29T16:13:29+0700</td>\n",
              "      <td>2021-11-02T09:03:36+0700</td>\n",
              "      <td>1</td>\n",
              "      <td>0</td>\n",
              "      <td>1</td>\n",
              "    </tr>\n",
              "    <tr>\n",
              "      <th>2</th>\n",
              "      <td>460618</td>\n",
              "      <td>thien-ha-bet</td>\n",
              "      <td>1.0</td>\n",
              "      <td>2020-07-13T16:17:58+0700</td>\n",
              "      <td>2021-11-01T16:53:54+0700</td>\n",
              "      <td>7</td>\n",
              "      <td>0</td>\n",
              "      <td>1</td>\n",
              "    </tr>\n",
              "    <tr>\n",
              "      <th>3</th>\n",
              "      <td>468272</td>\n",
              "      <td>laptoptitan.vn</td>\n",
              "      <td>1.0</td>\n",
              "      <td>2021-10-29T10:29:04+0700</td>\n",
              "      <td>2021-10-29T10:48:30+0700</td>\n",
              "      <td>1</td>\n",
              "      <td>0</td>\n",
              "      <td>1</td>\n",
              "    </tr>\n",
              "    <tr>\n",
              "      <th>4</th>\n",
              "      <td>468270</td>\n",
              "      <td>Phúc Lucas</td>\n",
              "      <td>1.0</td>\n",
              "      <td>2021-10-29T09:42:46+0700</td>\n",
              "      <td>2021-10-31T15:20:36+0700</td>\n",
              "      <td>2</td>\n",
              "      <td>0</td>\n",
              "      <td>1</td>\n",
              "    </tr>\n",
              "  </tbody>\n",
              "</table>\n",
              "</div>"
            ],
            "text/plain": [
              "   id_user       name_user  star  ... comment_count Reaction_Score  Score\n",
              "0   179483            0406   1.0  ...         23480             99   1132\n",
              "1   468274         Clarita   1.0  ...             1              0      1\n",
              "2   460618    thien-ha-bet   1.0  ...             7              0      1\n",
              "3   468272  laptoptitan.vn   1.0  ...             1              0      1\n",
              "4   468270      Phúc Lucas   1.0  ...             2              0      1\n",
              "\n",
              "[5 rows x 8 columns]"
            ]
          },
          "metadata": {},
          "execution_count": 7
        }
      ]
    },
    {
      "cell_type": "code",
      "source": [
        "test.iloc[:5,:]"
      ],
      "metadata": {
        "colab": {
          "base_uri": "https://localhost:8080/",
          "height": 204
        },
        "id": "_MDCkFBKCaSF",
        "outputId": "2de109fe-c259-438a-aca7-c37b3711e3d7"
      },
      "execution_count": null,
      "outputs": [
        {
          "output_type": "execute_result",
          "data": {
            "text/html": [
              "<div>\n",
              "<style scoped>\n",
              "    .dataframe tbody tr th:only-of-type {\n",
              "        vertical-align: middle;\n",
              "    }\n",
              "\n",
              "    .dataframe tbody tr th {\n",
              "        vertical-align: top;\n",
              "    }\n",
              "\n",
              "    .dataframe thead th {\n",
              "        text-align: right;\n",
              "    }\n",
              "</style>\n",
              "<table border=\"1\" class=\"dataframe\">\n",
              "  <thead>\n",
              "    <tr style=\"text-align: right;\">\n",
              "      <th></th>\n",
              "      <th>Unnamed: 0</th>\n",
              "      <th>id_user</th>\n",
              "      <th>id_post</th>\n",
              "      <th>label</th>\n",
              "    </tr>\n",
              "  </thead>\n",
              "  <tbody>\n",
              "    <tr>\n",
              "      <th>0</th>\n",
              "      <td>0</td>\n",
              "      <td>179483</td>\n",
              "      <td>16</td>\n",
              "      <td>1</td>\n",
              "    </tr>\n",
              "    <tr>\n",
              "      <th>1</th>\n",
              "      <td>1</td>\n",
              "      <td>179483</td>\n",
              "      <td>21753</td>\n",
              "      <td>0</td>\n",
              "    </tr>\n",
              "    <tr>\n",
              "      <th>2</th>\n",
              "      <td>2</td>\n",
              "      <td>179483</td>\n",
              "      <td>15535</td>\n",
              "      <td>0</td>\n",
              "    </tr>\n",
              "    <tr>\n",
              "      <th>3</th>\n",
              "      <td>3</td>\n",
              "      <td>179483</td>\n",
              "      <td>15045</td>\n",
              "      <td>0</td>\n",
              "    </tr>\n",
              "    <tr>\n",
              "      <th>4</th>\n",
              "      <td>4</td>\n",
              "      <td>179483</td>\n",
              "      <td>3773</td>\n",
              "      <td>0</td>\n",
              "    </tr>\n",
              "  </tbody>\n",
              "</table>\n",
              "</div>"
            ],
            "text/plain": [
              "   Unnamed: 0  id_user  id_post  label\n",
              "0           0   179483       16      1\n",
              "1           1   179483    21753      0\n",
              "2           2   179483    15535      0\n",
              "3           3   179483    15045      0\n",
              "4           4   179483     3773      0"
            ]
          },
          "metadata": {},
          "execution_count": 6
        }
      ]
    },
    {
      "cell_type": "markdown",
      "metadata": {
        "id": "oNiKu58Y6Oeo"
      },
      "source": [
        "# Utils "
      ]
    },
    {
      "cell_type": "markdown",
      "metadata": {
        "id": "kKGFR-_p6VrW"
      },
      "source": [
        "## Function for build profile objects "
      ]
    },
    {
      "cell_type": "code",
      "execution_count": null,
      "metadata": {
        "id": "kfQuR4Cj5zME"
      },
      "outputs": [],
      "source": [
        "#convert nan to ''\n",
        "def pass_nan(text):\n",
        "  if(text is np.nan): return ''\n",
        "  return text\n",
        "#return text by condition in Aggregate_text function\n",
        "def get_text(r_u, id_text): \n",
        "  if(id_text==0): return pass_nan(r_u.title_post_cleaned.values[0])\n",
        "  if(id_text==1): return pass_nan(r_u.content_post_cleaned.values[0])\n",
        "  if(id_text==2): return pass_nan(r_u.tags_cleaned.values[0])\n",
        "\n",
        "\n",
        "# Aggregate title_post, content_post, and tags into the text field.\n",
        "def Aggregate_text(id_p,title=1,content=1 ,tags=1): \n",
        "  r_u=post[post['id_post']==id_p]\n",
        "  text=''\n",
        "  if(len(r_u)==0): return text\n",
        "  else:\n",
        "    feature=[title,content,tags]\n",
        "    for i in range(3):\n",
        "      if(feature[i]==1): text += get_text(r_u, i)+' '\n",
        "    return text.strip()\n",
        "\n",
        "def build_profile_update(id_user,id_post_pass,p_posted=1,p_commented=1,p_title=1,p_content=1 ,p_tags=1):\n",
        "  '''\n",
        "  argument:\n",
        "      id_user: id of the user who needs to create a profile\n",
        "      id_post_pass: id of id_user's post has been in the test set\n",
        "      p_posted (1/0): 1-Aggregate text in all posts posted by id_user on the forum, 0-vice versa \n",
        "      p_commented (1/0): 1-Aggregate text in all posts commented by id_user on the forum, 0-vice versa \n",
        "      p_title (1/0): 1-Aggregate the title of the each post, 0-vice versa \n",
        "      p_content (1/0): 1-Aggregate the content of the each post, 0-vice versa \n",
        "      p_tags (1/0): 1-Aggregate the tag of the each post, 0-vice versa \n",
        "    return \n",
        "  '''\n",
        "  #get id_post of user posted on the forum\n",
        "  if(p_posted==1):\n",
        "    post_u_posted=np.unique(post[post['id_author_post']==int(id_user)].id_post.values)\n",
        "  else: post_u_posted=np.array([])\n",
        "  #get id_post of user commented on the forum\n",
        "  if(p_commented==1):\n",
        "    post_u_commented=np.unique(comment[comment['id_author_cmt']==int(id_user)].id_post)\n",
        "  else: post_u_commented=np.array([])\n",
        "  #aggregate id_post list\n",
        "  post_u_interacted=list(np.unique(np.hstack((post_u_posted,post_u_commented))))\n",
        "  #remove id_post_pass from id_post list\n",
        "  if(id_post_pass in post_u_interacted): post_u_interacted.remove(id_post_pass)\n",
        "  #build profile by condition of p_title,p_content,p_tags\n",
        "  profile = [Aggregate_text(p,title=p_title,content=p_content ,tags=p_tags) for p in post_u_interacted]\n",
        "  return profile"
      ]
    },
    {
      "cell_type": "markdown",
      "metadata": {
        "id": "oBKjI57XEul8"
      },
      "source": [
        "### Functions for calculating similarity"
      ]
    },
    {
      "cell_type": "code",
      "execution_count": null,
      "metadata": {
        "id": "f_1wQ24yE747"
      },
      "outputs": [],
      "source": [
        "#calculates the average similarity between all the subjects' posts and the posts in their respective test set\n",
        "def get_sim_avg(check_sub,profile):\n",
        "  '''\n",
        "  check_sub: one post in the test set that need to be checked for similarity\n",
        "  profile: list of posts in user profile\n",
        "  '''\n",
        "  return np.mean((cosine_similarity(check_sub.reshape(1,-1),profile)[0]))"
      ]
    },
    {
      "cell_type": "markdown",
      "metadata": {
        "id": "LNkQElOPGKO0"
      },
      "source": [
        "### Functions for RS to a user\n"
      ]
    },
    {
      "cell_type": "code",
      "execution_count": null,
      "metadata": {
        "id": "LTh84rAoGSk1"
      },
      "outputs": [],
      "source": [
        "def RS_for_one(id_u,embedding,embedding_type,dictionary,p_posted=1,p_commented=1,p_title=1,p_content=1 ,p_tags=1,title=1,content=1 ,tags=1):\n",
        "  '''\n",
        "  id_u\n",
        "  embedding,dictionary: for embedding\n",
        "  p_posted,p_commented,p_title,p_content,p_tags: for build profile\n",
        "  title,content,tags: for build text for post in test set\n",
        "  '''\n",
        "  ground_truth=test.copy()\n",
        "  ground_truth=ground_truth[ground_truth['id_user']==id_u]\n",
        "\n",
        "  id_post_pass=ground_truth[ground_truth['label']==1].id_post.values[0]\n",
        "\n",
        "  if(dictionary==0):\n",
        "    profile=build_profile_update(id_u,id_post_pass,p_posted=p_posted,p_commented=p_commented,p_title=p_title,p_content=p_content ,p_tags=p_tags)\n",
        "    if(len(profile)==0): return 0\n",
        "    else:\n",
        "      if(embedding_type=='w2v'): \n",
        "        profile_token=[p.split() for p in profile]\n",
        "        profile_embedding=[sum(embedding[p_token]) for p_token in profile_token]\n",
        "\n",
        "        docs_test=[Aggregate_text(p,title=title,content=content ,tags=tags) for p in ground_truth.id_post.values]\n",
        "        docs_test_token=[d.split() for d in docs_test]\n",
        "        docs_test_embedding=[sum(embedding[dt_token]) for dt_token in docs_test_token]\n",
        "\n",
        "\n",
        "      else: \n",
        "        profile_embedding= embedding.transform(profile)\n",
        "        docs_test=[Aggregate_text(p,title=title,content=content ,tags=tags) for p in ground_truth.id_post.values]\n",
        "        docs_test_embedding=embedding.transform(docs_test)\n",
        "      \n",
        "      list_similarity=[get_sim_avg(doc_test,profile_embedding) for doc_test in docs_test_embedding]\n",
        "\n",
        "      result=ground_truth.copy()\n",
        "      result=result[['id_post','label']]\n",
        "      result['sim_avg']=list_similarity\n",
        "      result=result.sort_values(by=['sim_avg'], ascending=False)\n",
        "      return list(zip(*map(result.get, result)))\n"
      ]
    },
    {
      "cell_type": "markdown",
      "metadata": {
        "id": "w__fZ6w3-QbQ"
      },
      "source": [
        "## Building Word Embedding method"
      ]
    },
    {
      "cell_type": "markdown",
      "metadata": {
        "id": "m5rM2bZk-ujf"
      },
      "source": [
        "### TF_IDF"
      ]
    },
    {
      "cell_type": "markdown",
      "metadata": {
        "id": "eEJNEZkY-5R8"
      },
      "source": [
        "#### Sklearn: TfidfVectorizer"
      ]
    },
    {
      "cell_type": "code",
      "execution_count": null,
      "metadata": {
        "colab": {
          "background_save": true
        },
        "id": "rhrjlM8MAf6I"
      },
      "outputs": [],
      "source": [
        "docs= [Aggregate_text(p,title=1,content=0 ,tags=1) for p in post.id_post]\n",
        "tfidf_vectorizer = TfidfVectorizer(max_features=15000)\n",
        "tfidf_101 = tf_vectorizer.fit(docs)"
      ]
    },
    {
      "cell_type": "code",
      "execution_count": null,
      "metadata": {
        "id": "phA2mPE6CXWf"
      },
      "outputs": [],
      "source": [
        "docs_tfidf=tfidf_101.transform(docs)"
      ]
    },
    {
      "cell_type": "code",
      "execution_count": null,
      "metadata": {
        "colab": {
          "base_uri": "https://localhost:8080/"
        },
        "id": "yZ6rHLL2_Gvy",
        "outputId": "ed28eda5-934b-4ca2-a4d1-549d8a69c4ee"
      },
      "outputs": [
        {
          "name": "stdout",
          "output_type": "stream",
          "text": [
            "Sparsicity:  0.055820596218925406 %\n"
          ]
        }
      ],
      "source": [
        "# Materialize the sparse data\n",
        "data_dense = docs_tfidf.todense()\n",
        "# Compute Sparsicity = Percentage of Non-Zero cells\n",
        "print(\"Sparsicity: \", ((data_dense > 0).sum()/data_dense.size)*100, \"%\")"
      ]
    },
    {
      "cell_type": "code",
      "execution_count": null,
      "metadata": {
        "colab": {
          "base_uri": "https://localhost:8080/"
        },
        "id": "d_iKdoQVC16D",
        "outputId": "c2793ab5-ca5f-410c-fabf-479bd58b0734"
      },
      "outputs": [
        {
          "data": {
            "text/plain": [
              "(1, 8245)"
            ]
          },
          "execution_count": 22,
          "metadata": {},
          "output_type": "execute_result"
        }
      ],
      "source": [
        "docs_tfidf[0].shape"
      ]
    },
    {
      "cell_type": "code",
      "execution_count": null,
      "metadata": {
        "id": "pjWPdbKiAbTn"
      },
      "outputs": [],
      "source": [
        "pickle.dump(ifidf_101, open(\"/content/drive/MyDrive/DS300/Model_RS_DA/CB/Embedding/TFIDF/tfidf_101_8245.pickle\", \"wb\"))"
      ]
    },
    {
      "cell_type": "code",
      "execution_count": null,
      "metadata": {
        "id": "85P4jKOuAb4v"
      },
      "outputs": [],
      "source": [
        "tf_vectorizer = pickle.load(open(\"/content/drive/MyDrive/DS300/Model_RS_DA/CB/Embedding/TFIDF/tfidf_101_8245.pickle\", \"rb\"))\n",
        "tf_vectorizer.vocabulary_"
      ]
    },
    {
      "cell_type": "code",
      "execution_count": null,
      "metadata": {
        "id": "FniwzORYEao1"
      },
      "outputs": [],
      "source": [
        ""
      ]
    },
    {
      "cell_type": "code",
      "execution_count": null,
      "metadata": {
        "id": "herray2rIe1f"
      },
      "outputs": [],
      "source": [
        "tf_vectorizer = pickle.load(open(\"/content/drive/MyDrive/DS300/Model_RS_DA/CB/Embedding/TFIDF/tfidf_101_8245.pickle\", \"rb\"))\n"
      ]
    },
    {
      "cell_type": "code",
      "execution_count": null,
      "metadata": {
        "id": "w0ptAPo_IZPA"
      },
      "outputs": [],
      "source": [
        "a=RS_for_one(466251, tf_vectorizer,0,p_posted=1,p_commented=1,p_title=1,p_content=0 ,p_tags=1,title=1,content=0 ,tags=1)\n",
        "a"
      ]
    },
    {
      "cell_type": "markdown",
      "source": [
        "### 101"
      ],
      "metadata": {
        "id": "Vv-TyhEhCcrO"
      }
    },
    {
      "cell_type": "code",
      "source": [
        "docs= [Aggregate_text(p,title=1,content=0 ,tags=1) for p in post.id_post]\n",
        "tfidf_vectorizer = TfidfVectorizer(max_df=0.1)\n",
        "tfidf_101 = tfidf_vectorizer.fit_transform(docs)"
      ],
      "metadata": {
        "id": "_3qdcKvVCd91"
      },
      "execution_count": null,
      "outputs": []
    },
    {
      "cell_type": "code",
      "source": [
        "docs_tfidf_101 = tfidf_101.transform(docs)"
      ],
      "metadata": {
        "id": "rc_LV6coC9Gb"
      },
      "execution_count": null,
      "outputs": []
    },
    {
      "cell_type": "code",
      "source": [
        "tfidf_101[0].shape"
      ],
      "metadata": {
        "colab": {
          "base_uri": "https://localhost:8080/"
        },
        "id": "8FyxNMy2CsjA",
        "outputId": "e5f72bec-52db-4272-8f98-f1c4cce2b30c"
      },
      "execution_count": null,
      "outputs": [
        {
          "output_type": "execute_result",
          "data": {
            "text/plain": [
              "(1, 8243)"
            ]
          },
          "metadata": {},
          "execution_count": 52
        }
      ]
    },
    {
      "cell_type": "markdown",
      "source": [
        "# w2v"
      ],
      "metadata": {
        "id": "I7AZMRMMEgAy"
      }
    },
    {
      "cell_type": "code",
      "source": [
        "from gensim.test.utils import common_texts\n",
        "common_texts"
      ],
      "metadata": {
        "colab": {
          "base_uri": "https://localhost:8080/"
        },
        "id": "wD3WlucjF-LZ",
        "outputId": "a5b736cf-e43f-458e-f964-9df0cfeab6dc"
      },
      "execution_count": null,
      "outputs": [
        {
          "output_type": "execute_result",
          "data": {
            "text/plain": [
              "[['human', 'interface', 'computer'],\n",
              " ['survey', 'user', 'computer', 'system', 'response', 'time'],\n",
              " ['eps', 'user', 'interface', 'system'],\n",
              " ['system', 'human', 'system', 'eps'],\n",
              " ['user', 'response', 'time'],\n",
              " ['trees'],\n",
              " ['graph', 'trees'],\n",
              " ['graph', 'minors', 'trees'],\n",
              " ['graph', 'minors', 'survey']]"
            ]
          },
          "metadata": {},
          "execution_count": 59
        }
      ]
    },
    {
      "cell_type": "code",
      "source": [
        "from gensim.models import Word2Vec"
      ],
      "metadata": {
        "id": "_cWMFBgBEsPH"
      },
      "execution_count": null,
      "outputs": []
    },
    {
      "cell_type": "code",
      "source": [
        "docs= [Aggregate_text(p,title=1,content=1 ,tags=1).split() for p in post.id_post]"
      ],
      "metadata": {
        "id": "VUer5tq0FYNG"
      },
      "execution_count": null,
      "outputs": []
    },
    {
      "cell_type": "code",
      "source": [
        "modelw2v= Word2Vec(sentences=docs, size=300, window=5, min_count=1, workers=4)"
      ],
      "metadata": {
        "id": "7-MXIvVWEiWN"
      },
      "execution_count": null,
      "outputs": []
    },
    {
      "cell_type": "code",
      "source": [
        "modelw2v.wv.most_similar('thiết_kế', topn=10)"
      ],
      "metadata": {
        "colab": {
          "base_uri": "https://localhost:8080/"
        },
        "id": "8RkJzN_-G2Oj",
        "outputId": "46e2fbf7-3755-4df0-996e-6aa90f00dba5"
      },
      "execution_count": null,
      "outputs": [
        {
          "output_type": "execute_result",
          "data": {
            "text/plain": [
              "[('cơ_khí', 0.958753228187561),\n",
              " ('ngành', 0.9511078000068665),\n",
              " ('giải_trí', 0.9491112232208252),\n",
              " ('mmo', 0.9481334686279297),\n",
              " ('phục_vụ', 0.9438494443893433),\n",
              " ('đại_học', 0.943498432636261),\n",
              " ('lập_trình', 0.9381849765777588),\n",
              " ('công_nghệ', 0.9375318288803101),\n",
              " ('eview', 0.9351106882095337),\n",
              " ('cntt', 0.9307032823562622)]"
            ]
          },
          "metadata": {},
          "execution_count": 70
        }
      ]
    },
    {
      "cell_type": "markdown",
      "source": [
        "## LDA"
      ],
      "metadata": {
        "id": "CZ2UCliAWzsu"
      }
    },
    {
      "cell_type": "code",
      "source": [
        "!pip install -U gensim\n",
        "import gensim\n",
        "import gensim.corpora as corpora"
      ],
      "metadata": {
        "colab": {
          "base_uri": "https://localhost:8080/"
        },
        "id": "ZoCCyISYf3Oi",
        "outputId": "ed6605cf-9887-416d-b5c8-987512a0919d"
      },
      "execution_count": null,
      "outputs": [
        {
          "output_type": "stream",
          "name": "stdout",
          "text": [
            "Requirement already satisfied: gensim in /usr/local/lib/python3.7/dist-packages (4.1.2)\n",
            "Requirement already satisfied: smart-open>=1.8.1 in /usr/local/lib/python3.7/dist-packages (from gensim) (5.2.1)\n",
            "Requirement already satisfied: numpy>=1.17.0 in /usr/local/lib/python3.7/dist-packages (from gensim) (1.19.5)\n",
            "Requirement already satisfied: scipy>=0.18.1 in /usr/local/lib/python3.7/dist-packages (from gensim) (1.4.1)\n"
          ]
        }
      ]
    },
    {
      "cell_type": "code",
      "source": [
        "import gensim\n",
        "import gensim.corpora as corpora"
      ],
      "metadata": {
        "id": "Fz8QAN4RXGnP"
      },
      "execution_count": null,
      "outputs": []
    },
    {
      "cell_type": "code",
      "source": [
        "dic_lda=corpora.Dictionary.load('/content/drive/MyDrive/DS300/Model_RS_DA/CB/dic_LDA_101_1762')\n",
        "model_lda=gensim.models.ldamodel.LdaModel.load('/content/drive/MyDrive/DS300/Model_RS_DA/CB/model_LDA_101_1762.model')"
      ],
      "metadata": {
        "id": "0EAEF_ifW32O"
      },
      "execution_count": null,
      "outputs": []
    },
    {
      "cell_type": "code",
      "source": [
        "tfidf=gensim.models.TfidfModel.load('/content/drive/MyDrive/DS300/Model_RS_DA/CB/tfidf_LDA_101_1762.model')\n",
        "dic_lda=corpora.Dictionary.load('/content/drive/MyDrive/DS300/Model_RS_DA/CB/dic_LDA_101_1762')\n",
        "model_lda=gensim.models.ldamodel.LdaModel.load('/content/drive/MyDrive/DS300/Model_RS_DA/CB/model_LDA_101_1762.model')"
      ],
      "metadata": {
        "id": "KZyzQTtBHM0g"
      },
      "execution_count": null,
      "outputs": []
    },
    {
      "cell_type": "code",
      "source": [
        "tfidf=gensim.models.TfidfModel.load('/content/drive/MyDrive/DS300/Model_RS_DA/CB/tfidf_LDA_101_1762.model')"
      ],
      "metadata": {
        "id": "j7yW3yzzdY5n"
      },
      "execution_count": null,
      "outputs": []
    },
    {
      "cell_type": "code",
      "source": [
        "docs= [Aggregate_text(p,title=1,content=0 ,tags=1).split() for p in post.id_post]\n",
        "docs[0]"
      ],
      "metadata": {
        "colab": {
          "base_uri": "https://localhost:8080/"
        },
        "id": "9Oar8dq5XJIZ",
        "outputId": "410c6071-f180-4b02-cf68-efe8766bdc47"
      },
      "execution_count": null,
      "outputs": [
        {
          "output_type": "execute_result",
          "data": {
            "text/plain": [
              "['mời', 'khoe', 'góc', 'làm_việc', 'máy_tính']"
            ]
          },
          "metadata": {},
          "execution_count": 8
        }
      ]
    },
    {
      "cell_type": "code",
      "source": [
        "np.array([x[1] for x in [model_lda[tfidf[dic_lda.doc2bow(docs[p])]]][0]])"
      ],
      "metadata": {
        "colab": {
          "base_uri": "https://localhost:8080/"
        },
        "id": "v_V6EON6bwIz",
        "outputId": "e92a3cd7-7298-41c4-bd32-385caf0ead02"
      },
      "execution_count": null,
      "outputs": [
        {
          "output_type": "execute_result",
          "data": {
            "text/plain": [
              "array([0.02658732, 0.0265873 , 0.02658731, 0.02658731, 0.02658736,\n",
              "       0.02658741, 0.02658752, 0.2637416 , 0.21311079, 0.02658778,\n",
              "       0.02658744, 0.02658738, 0.25727347], dtype=float32)"
            ]
          },
          "metadata": {},
          "execution_count": 67
        }
      ]
    },
    {
      "cell_type": "code",
      "source": [
        "for x in model_lda[[tfidf[dic_lda.doc2bow(p)] for p in docs[:2]]]"
      ],
      "metadata": {
        "id": "mbAp1znGoFpo"
      },
      "execution_count": null,
      "outputs": []
    },
    {
      "cell_type": "code",
      "source": [
        "get_p(model_lda[[tfidf[dic_lda.doc2bow(p)] for p in docs[:2]]][0])"
      ],
      "metadata": {
        "colab": {
          "base_uri": "https://localhost:8080/"
        },
        "id": "1IikBSIMoCOr",
        "outputId": "d299ecc7-19e9-4b9e-94b2-a3c9e414e589"
      },
      "execution_count": null,
      "outputs": [
        {
          "output_type": "execute_result",
          "data": {
            "text/plain": [
              "array([0.02658731, 0.0265873 , 0.0265873 , 0.02658731, 0.02658735,\n",
              "       0.0265874 , 0.02658752, 0.26379585, 0.21311752, 0.02658775,\n",
              "       0.02658744, 0.02658737, 0.25721252], dtype=float32)"
            ]
          },
          "metadata": {},
          "execution_count": 104
        }
      ]
    },
    {
      "cell_type": "code",
      "source": [
        "def get_p(list_):\n",
        "  return np.array([x[1] for x in list_])"
      ],
      "metadata": {
        "id": "Zu0sUrF3ogZK"
      },
      "execution_count": null,
      "outputs": []
    },
    {
      "cell_type": "code",
      "source": [
        "def RS_for_one_LDA(id_u,embedding,dic,model_lda,p_posted=1,p_commented=1,p_title=1,p_content=1 ,p_tags=1,title=1,content=1 ,tags=1):\n",
        "  '''\n",
        "  id_u\n",
        "  embedding,dictionary: for embedding\n",
        "  p_posted,p_commented,p_title,p_content,p_tags: for build profile\n",
        "  title,content,tags: for build text for post in test set\n",
        "  '''\n",
        "  ground_truth=test.copy()\n",
        "  ground_truth=ground_truth[ground_truth['id_user']==id_u]\n",
        "\n",
        "  id_post_pass=ground_truth[ground_truth['label']==1].id_post.values[0]\n",
        "\n",
        "  profile=build_profile_update(id_u,id_post_pass,p_posted=p_posted,p_commented=p_commented,p_title=p_title,p_content=p_content ,p_tags=p_tags)\n",
        "\n",
        "  if(len(profile)==0): return 0\n",
        "  else: \n",
        "    profile_LDA=[get_p(model_lda[embedding[dic_lda.doc2bow(p.split())]]) for p in profile]\n",
        "    \n",
        "    docs_test=[Aggregate_text(p,title=title,content=content ,tags=tags) for p in ground_truth.id_post.values]\n",
        "    docs_test_LDA=[get_p(model_lda[embedding[dic_lda.doc2bow(dt.split())]]) for dt in docs_test]\n",
        "\n",
        "\n",
        "    list_similarity=[get_sim_avg(doc_test,profile_LDA) for doc_test in docs_test_LDA]\n",
        "\n",
        "    result=ground_truth.copy()\n",
        "    result=result[['id_post','label']]\n",
        "    result['sim_avg']=list_similarity\n",
        "    result=result.sort_values(by=['sim_avg'], ascending=False)\n",
        "    return list(zip(*map(result.get, result)))\n",
        "\n"
      ],
      "metadata": {
        "id": "xdxf84SfYBWU"
      },
      "execution_count": null,
      "outputs": []
    },
    {
      "cell_type": "code",
      "source": [
        "RS_for_one_LDA(386961,embedding=tfidf,dic=dic_lda,model_lda=model_lda,p_posted=1,p_commented=1,p_title=1,p_content=0 ,p_tags=1,title=1,content=0 ,tags=1)"
      ],
      "metadata": {
        "id": "VnByl10naE6r"
      },
      "execution_count": null,
      "outputs": []
    },
    {
      "cell_type": "code",
      "source": [
        "e=evaluation_LDA(test[test['label']==1],embedding=tfidf,dictionary=dic_lda,model_lda=model_lda,p_posted=1,p_commented=1,p_title=1,p_content=0 ,p_tags=1,title=1,content=0 ,tags=1)\n",
        "print('Accuracy: ',e[1])\n",
        "print('NDCG: ',e[2])\n",
        "e[0]"
      ],
      "metadata": {
        "colab": {
          "base_uri": "https://localhost:8080/",
          "height": 828
        },
        "id": "CR1C10K6pyca",
        "outputId": "022fabc0-1bca-48da-a362-62ed48f6a711"
      },
      "execution_count": null,
      "outputs": [
        {
          "output_type": "stream",
          "name": "stdout",
          "text": [
            "Accuracy:  [0.106, 0.162, 0.222, 0.274, 0.344]\n",
            "NDCG:  [0.0850864606908347, 0.11072622794736743, 0.13346895658812552, 0.15102354907896476, 0.1730360695314395]\n"
          ]
        },
        {
          "output_type": "execute_result",
          "data": {
            "text/html": [
              "<div>\n",
              "<style scoped>\n",
              "    .dataframe tbody tr th:only-of-type {\n",
              "        vertical-align: middle;\n",
              "    }\n",
              "\n",
              "    .dataframe tbody tr th {\n",
              "        vertical-align: top;\n",
              "    }\n",
              "\n",
              "    .dataframe thead th {\n",
              "        text-align: right;\n",
              "    }\n",
              "</style>\n",
              "<table border=\"1\" class=\"dataframe\">\n",
              "  <thead>\n",
              "    <tr style=\"text-align: right;\">\n",
              "      <th></th>\n",
              "      <th>Unnamed: 0</th>\n",
              "      <th>id_user</th>\n",
              "      <th>id_post</th>\n",
              "      <th>label</th>\n",
              "      <th>RS</th>\n",
              "      <th>rank_sim_ptrue</th>\n",
              "      <th>top_5</th>\n",
              "      <th>top_10</th>\n",
              "      <th>top_15</th>\n",
              "      <th>top_20</th>\n",
              "      <th>top_25</th>\n",
              "      <th>result_top_5</th>\n",
              "      <th>result_top_10</th>\n",
              "      <th>result_top_15</th>\n",
              "      <th>result_top_20</th>\n",
              "      <th>result_top_25</th>\n",
              "    </tr>\n",
              "  </thead>\n",
              "  <tbody>\n",
              "    <tr>\n",
              "      <th>0</th>\n",
              "      <td>0</td>\n",
              "      <td>179483</td>\n",
              "      <td>16</td>\n",
              "      <td>1</td>\n",
              "      <td>[(1291, 0, 0.5009123682975769), (8499, 0, 0.50...</td>\n",
              "      <td>(55, 1)</td>\n",
              "      <td>[(1291, 0, 0.5009123682975769), (8499, 0, 0.50...</td>\n",
              "      <td>[(1291, 0, 0.5009123682975769), (8499, 0, 0.50...</td>\n",
              "      <td>[(1291, 0, 0.5009123682975769), (8499, 0, 0.50...</td>\n",
              "      <td>[(1291, 0, 0.5009123682975769), (8499, 0, 0.50...</td>\n",
              "      <td>[(1291, 0, 0.5009123682975769), (8499, 0, 0.50...</td>\n",
              "      <td>0</td>\n",
              "      <td>0</td>\n",
              "      <td>0</td>\n",
              "      <td>0</td>\n",
              "      <td>0</td>\n",
              "    </tr>\n",
              "    <tr>\n",
              "      <th>101</th>\n",
              "      <td>101</td>\n",
              "      <td>466251</td>\n",
              "      <td>216</td>\n",
              "      <td>1</td>\n",
              "      <td>[(8925, 0, 0.5678192973136902), (13546, 0, 0.5...</td>\n",
              "      <td>(96, 1)</td>\n",
              "      <td>[(8925, 0, 0.5678192973136902), (13546, 0, 0.5...</td>\n",
              "      <td>[(8925, 0, 0.5678192973136902), (13546, 0, 0.5...</td>\n",
              "      <td>[(8925, 0, 0.5678192973136902), (13546, 0, 0.5...</td>\n",
              "      <td>[(8925, 0, 0.5678192973136902), (13546, 0, 0.5...</td>\n",
              "      <td>[(8925, 0, 0.5678192973136902), (13546, 0, 0.5...</td>\n",
              "      <td>0</td>\n",
              "      <td>0</td>\n",
              "      <td>0</td>\n",
              "      <td>0</td>\n",
              "      <td>0</td>\n",
              "    </tr>\n",
              "    <tr>\n",
              "      <th>202</th>\n",
              "      <td>202</td>\n",
              "      <td>468305</td>\n",
              "      <td>14</td>\n",
              "      <td>1</td>\n",
              "      <td>[(2508, 0, 0.5403069257736206), (18831, 0, 0.5...</td>\n",
              "      <td>(4, 1)</td>\n",
              "      <td>[(2508, 0, 0.5403069257736206), (18831, 0, 0.5...</td>\n",
              "      <td>[(2508, 0, 0.5403069257736206), (18831, 0, 0.5...</td>\n",
              "      <td>[(2508, 0, 0.5403069257736206), (18831, 0, 0.5...</td>\n",
              "      <td>[(2508, 0, 0.5403069257736206), (18831, 0, 0.5...</td>\n",
              "      <td>[(2508, 0, 0.5403069257736206), (18831, 0, 0.5...</td>\n",
              "      <td>1</td>\n",
              "      <td>1</td>\n",
              "      <td>1</td>\n",
              "      <td>1</td>\n",
              "      <td>1</td>\n",
              "    </tr>\n",
              "    <tr>\n",
              "      <th>303</th>\n",
              "      <td>303</td>\n",
              "      <td>111027</td>\n",
              "      <td>368</td>\n",
              "      <td>1</td>\n",
              "      <td>[(13669, 0, 0.5354594588279724), (10987, 0, 0....</td>\n",
              "      <td>(21, 1)</td>\n",
              "      <td>[(13669, 0, 0.5354594588279724), (10987, 0, 0....</td>\n",
              "      <td>[(13669, 0, 0.5354594588279724), (10987, 0, 0....</td>\n",
              "      <td>[(13669, 0, 0.5354594588279724), (10987, 0, 0....</td>\n",
              "      <td>[(13669, 0, 0.5354594588279724), (10987, 0, 0....</td>\n",
              "      <td>[(13669, 0, 0.5354594588279724), (10987, 0, 0....</td>\n",
              "      <td>0</td>\n",
              "      <td>0</td>\n",
              "      <td>0</td>\n",
              "      <td>0</td>\n",
              "      <td>1</td>\n",
              "    </tr>\n",
              "    <tr>\n",
              "      <th>404</th>\n",
              "      <td>404</td>\n",
              "      <td>286410</td>\n",
              "      <td>1</td>\n",
              "      <td>1</td>\n",
              "      <td>[(20640, 0, 0.5092731714248657), (18866, 0, 0....</td>\n",
              "      <td>(13, 1)</td>\n",
              "      <td>[(20640, 0, 0.5092731714248657), (18866, 0, 0....</td>\n",
              "      <td>[(20640, 0, 0.5092731714248657), (18866, 0, 0....</td>\n",
              "      <td>[(20640, 0, 0.5092731714248657), (18866, 0, 0....</td>\n",
              "      <td>[(20640, 0, 0.5092731714248657), (18866, 0, 0....</td>\n",
              "      <td>[(20640, 0, 0.5092731714248657), (18866, 0, 0....</td>\n",
              "      <td>0</td>\n",
              "      <td>0</td>\n",
              "      <td>1</td>\n",
              "      <td>1</td>\n",
              "      <td>1</td>\n",
              "    </tr>\n",
              "    <tr>\n",
              "      <th>...</th>\n",
              "      <td>...</td>\n",
              "      <td>...</td>\n",
              "      <td>...</td>\n",
              "      <td>...</td>\n",
              "      <td>...</td>\n",
              "      <td>...</td>\n",
              "      <td>...</td>\n",
              "      <td>...</td>\n",
              "      <td>...</td>\n",
              "      <td>...</td>\n",
              "      <td>...</td>\n",
              "      <td>...</td>\n",
              "      <td>...</td>\n",
              "      <td>...</td>\n",
              "      <td>...</td>\n",
              "      <td>...</td>\n",
              "    </tr>\n",
              "    <tr>\n",
              "      <th>49995</th>\n",
              "      <td>49995</td>\n",
              "      <td>267871</td>\n",
              "      <td>12276</td>\n",
              "      <td>1</td>\n",
              "      <td>[(16391, 0, 0.4954480230808258), (19031, 0, 0....</td>\n",
              "      <td>(65, 1)</td>\n",
              "      <td>[(16391, 0, 0.4954480230808258), (19031, 0, 0....</td>\n",
              "      <td>[(16391, 0, 0.4954480230808258), (19031, 0, 0....</td>\n",
              "      <td>[(16391, 0, 0.4954480230808258), (19031, 0, 0....</td>\n",
              "      <td>[(16391, 0, 0.4954480230808258), (19031, 0, 0....</td>\n",
              "      <td>[(16391, 0, 0.4954480230808258), (19031, 0, 0....</td>\n",
              "      <td>0</td>\n",
              "      <td>0</td>\n",
              "      <td>0</td>\n",
              "      <td>0</td>\n",
              "      <td>0</td>\n",
              "    </tr>\n",
              "    <tr>\n",
              "      <th>50096</th>\n",
              "      <td>50096</td>\n",
              "      <td>342550</td>\n",
              "      <td>8377</td>\n",
              "      <td>1</td>\n",
              "      <td>[(237, 0, 0.5146333575248718), (17884, 0, 0.49...</td>\n",
              "      <td>(4, 1)</td>\n",
              "      <td>[(237, 0, 0.5146333575248718), (17884, 0, 0.49...</td>\n",
              "      <td>[(237, 0, 0.5146333575248718), (17884, 0, 0.49...</td>\n",
              "      <td>[(237, 0, 0.5146333575248718), (17884, 0, 0.49...</td>\n",
              "      <td>[(237, 0, 0.5146333575248718), (17884, 0, 0.49...</td>\n",
              "      <td>[(237, 0, 0.5146333575248718), (17884, 0, 0.49...</td>\n",
              "      <td>1</td>\n",
              "      <td>1</td>\n",
              "      <td>1</td>\n",
              "      <td>1</td>\n",
              "      <td>1</td>\n",
              "    </tr>\n",
              "    <tr>\n",
              "      <th>50197</th>\n",
              "      <td>50197</td>\n",
              "      <td>402686</td>\n",
              "      <td>6090</td>\n",
              "      <td>1</td>\n",
              "      <td>[(3089, 0, 0.5047852993011475), (18109, 0, 0.4...</td>\n",
              "      <td>(24, 1)</td>\n",
              "      <td>[(3089, 0, 0.5047852993011475), (18109, 0, 0.4...</td>\n",
              "      <td>[(3089, 0, 0.5047852993011475), (18109, 0, 0.4...</td>\n",
              "      <td>[(3089, 0, 0.5047852993011475), (18109, 0, 0.4...</td>\n",
              "      <td>[(3089, 0, 0.5047852993011475), (18109, 0, 0.4...</td>\n",
              "      <td>[(3089, 0, 0.5047852993011475), (18109, 0, 0.4...</td>\n",
              "      <td>0</td>\n",
              "      <td>0</td>\n",
              "      <td>0</td>\n",
              "      <td>0</td>\n",
              "      <td>1</td>\n",
              "    </tr>\n",
              "    <tr>\n",
              "      <th>50298</th>\n",
              "      <td>50298</td>\n",
              "      <td>277065</td>\n",
              "      <td>15390</td>\n",
              "      <td>1</td>\n",
              "      <td>[(7032, 0, 0.48138999938964844), (20550, 0, 0....</td>\n",
              "      <td>(78, 1)</td>\n",
              "      <td>[(7032, 0, 0.48138999938964844), (20550, 0, 0....</td>\n",
              "      <td>[(7032, 0, 0.48138999938964844), (20550, 0, 0....</td>\n",
              "      <td>[(7032, 0, 0.48138999938964844), (20550, 0, 0....</td>\n",
              "      <td>[(7032, 0, 0.48138999938964844), (20550, 0, 0....</td>\n",
              "      <td>[(7032, 0, 0.48138999938964844), (20550, 0, 0....</td>\n",
              "      <td>0</td>\n",
              "      <td>0</td>\n",
              "      <td>0</td>\n",
              "      <td>0</td>\n",
              "      <td>0</td>\n",
              "    </tr>\n",
              "    <tr>\n",
              "      <th>50399</th>\n",
              "      <td>50399</td>\n",
              "      <td>386961</td>\n",
              "      <td>5510</td>\n",
              "      <td>1</td>\n",
              "      <td>[(5616, 0, 0.5048137903213501), (15368, 0, 0.4...</td>\n",
              "      <td>(43, 1)</td>\n",
              "      <td>[(5616, 0, 0.5048137903213501), (15368, 0, 0.4...</td>\n",
              "      <td>[(5616, 0, 0.5048137903213501), (15368, 0, 0.4...</td>\n",
              "      <td>[(5616, 0, 0.5048137903213501), (15368, 0, 0.4...</td>\n",
              "      <td>[(5616, 0, 0.5048137903213501), (15368, 0, 0.4...</td>\n",
              "      <td>[(5616, 0, 0.5048137903213501), (15368, 0, 0.4...</td>\n",
              "      <td>0</td>\n",
              "      <td>0</td>\n",
              "      <td>0</td>\n",
              "      <td>0</td>\n",
              "      <td>0</td>\n",
              "    </tr>\n",
              "  </tbody>\n",
              "</table>\n",
              "<p>500 rows × 16 columns</p>\n",
              "</div>"
            ],
            "text/plain": [
              "       Unnamed: 0  id_user  ...  result_top_20  result_top_25\n",
              "0               0   179483  ...              0              0\n",
              "101           101   466251  ...              0              0\n",
              "202           202   468305  ...              1              1\n",
              "303           303   111027  ...              0              1\n",
              "404           404   286410  ...              1              1\n",
              "...           ...      ...  ...            ...            ...\n",
              "49995       49995   267871  ...              0              0\n",
              "50096       50096   342550  ...              1              1\n",
              "50197       50197   402686  ...              0              1\n",
              "50298       50298   277065  ...              0              0\n",
              "50399       50399   386961  ...              0              0\n",
              "\n",
              "[500 rows x 16 columns]"
            ]
          },
          "metadata": {},
          "execution_count": 121
        }
      ]
    },
    {
      "cell_type": "code",
      "source": [
        "def evaluation_LDA(df,embedding,dictionary,model_lda,p_posted=1,p_commented=1,p_title=1,p_content=1 ,p_tags=1,title=1,content=1 ,tags=1):\n",
        "  top_list=[5,10,15,20,25]\n",
        "  name_top= ['top_%s'%n for n in top_list]\n",
        "  name_result=['result_top_%s'%n for n in top_list]\n",
        "\n",
        "  check=df.copy()\n",
        "  check['RS']=check['id_user'].apply(RS_for_one_LDA,embedding=embedding,dic=dictionary,model_lda=model_lda,p_posted=p_posted,p_commented=p_commented,p_title=p_title,p_content=p_content ,p_tags=p_tags,title=title,content=content ,tags=tags)\n",
        "  \n",
        "\n",
        "  check=check.drop(list(check[check['RS']==0].index.values),axis=0)\n",
        "  \n",
        "  check['rank_sim_ptrue']=check.apply(lambda x: get_sim_rank(x['id_post'],x['RS']),axis = 1)\n",
        "  for i in range(len(top_list)):\n",
        "    check[name_top[i]]=check['RS'].apply(id_p_top,top_n=top_list[i])\n",
        "  for i in range(len(top_list)):\n",
        "    check[name_result[i]]=check.apply(lambda x: check_in( x[name_top[i]],x['id_post']),axis = 1)\n",
        "\n",
        "  acc=[list(check[n].values).count(1)/len(check) for n in name_result ]\n",
        "\n",
        "  ndcg=[cal_ndcg(check,i) for i in top_list]\n",
        "  return check,acc,ndcg"
      ],
      "metadata": {
        "id": "eAdFAp9rpcfQ"
      },
      "execution_count": null,
      "outputs": []
    },
    {
      "cell_type": "code",
      "source": [
        "a=RS_for_one_LDA(386961,embedding=tfidf,dic=dic_lda,model_lda=model_lda,p_posted=1,p_commented=1,p_title=1,p_content=0 ,p_tags=1,title=1,content=0 ,tags=1)[:2]"
      ],
      "metadata": {
        "id": "O-PQHlrIlcT1"
      },
      "execution_count": null,
      "outputs": []
    },
    {
      "cell_type": "markdown",
      "source": [
        "# RS and evaluation"
      ],
      "metadata": {
        "id": "JD5y0rGo6Xlu"
      }
    },
    {
      "cell_type": "code",
      "execution_count": null,
      "metadata": {
        "id": "yZsv1i6UI9FM"
      },
      "outputs": [],
      "source": [
        "def check_in(list_rs,p_true):\n",
        "  list_=[x[0] for x in list_rs]\n",
        "  if(p_true in list_): return 1\n",
        "  return 0\n",
        "  \n",
        "def id_p_top(list_rs,top_n):\n",
        "  return list_rs[:top_n]\n",
        "\n",
        "def get_sim_rank(p_true, RS_list):\n",
        "  index=[x[0] for x in RS_list].index(p_true)\n",
        "  return (index,RS_list[index][1])\n",
        "\n",
        "def cal_ndcg(df_result,i):\n",
        "  list_rank= [x[0]+1 for x in list(df_result[df_result['result_top_%i'%i]==1]['rank_sim_ptrue'].values)]\n",
        "  ndcgs=0\n",
        "  for rank in list_rank:\n",
        "     ndcgs=ndcgs+float(1 / np.log(rank + 1))\n",
        "  return ndcgs/len(df_result)\n",
        "\n",
        "def evaluation_update(df,embedding,embedding_type,dictionary,p_posted=1,p_commented=1,p_title=1,p_content=1 ,p_tags=1,title=1,content=1 ,tags=1):\n",
        "  top_list=[5,10,15,20,25]\n",
        "  name_top= ['top_%s'%n for n in top_list]\n",
        "  name_result=['result_top_%s'%n for n in top_list]\n",
        "\n",
        "  check=df.copy()\n",
        "  if(embedding_type=='LDA'): check['RS']=check['id_user'].apply(RS_for_one,embedding=embedding,embedding_type=embedding_type,dictionary=dictionary,p_posted=p_posted,p_commented=p_commented,p_title=p_title,p_content=p_content ,p_tags=p_tags,title=title,content=content ,tags=tags)\n",
        "  check['RS']=check['id_user'].apply(RS_for_one,embedding=embedding,embedding_type=embedding_type,dictionary=dictionary,p_posted=p_posted,p_commented=p_commented,p_title=p_title,p_content=p_content ,p_tags=p_tags,title=title,content=content ,tags=tags)\n",
        "\n",
        "  check=check.drop(list(check[check['RS']==0].index.values),axis=0)\n",
        "  \n",
        "  check['rank_sim_ptrue']=check.apply(lambda x: get_sim_rank(x['id_post'],x['RS']),axis = 1)\n",
        "  for i in range(len(top_list)):\n",
        "    check[name_top[i]]=check['RS'].apply(id_p_top,top_n=top_list[i])\n",
        "  for i in range(len(top_list)):\n",
        "    check[name_result[i]]=check.apply(lambda x: check_in( x[name_top[i]],x['id_post']),axis = 1)\n",
        "\n",
        "  acc=[list(check[n].values).count(1)/len(check) for n in name_result ]\n",
        "\n",
        "  ndcg=[cal_ndcg(check,i) for i in top_list]\n",
        "  return check,acc,ndcg"
      ]
    },
    {
      "cell_type": "code",
      "source": [
        "tf_vectorizer = pickle.load(open(\"/content/drive/MyDrive/DS300/Model_RS_DA/CB/Embedding/TFIDF/tfidf_111_15000.pickle\", \"rb\"))"
      ],
      "metadata": {
        "id": "nmGmQeSglAdV"
      },
      "execution_count": null,
      "outputs": []
    },
    {
      "cell_type": "code",
      "execution_count": null,
      "metadata": {
        "id": "AgnnPbOYJzRy",
        "colab": {
          "base_uri": "https://localhost:8080/",
          "height": 828
        },
        "outputId": "de2bb7c3-f98d-42b7-a22d-2c8607341055"
      },
      "outputs": [
        {
          "output_type": "stream",
          "name": "stdout",
          "text": [
            "Accuracy:  [0.2336182336182336, 0.3190883190883191, 0.37606837606837606, 0.4188034188034188, 0.46153846153846156]\n",
            "NDCG:  [0.22163886546927736, 0.26200245504313235, 0.2835602998457372, 0.29810962666604157, 0.3116517284862477]\n"
          ]
        },
        {
          "output_type": "execute_result",
          "data": {
            "text/html": [
              "<div>\n",
              "<style scoped>\n",
              "    .dataframe tbody tr th:only-of-type {\n",
              "        vertical-align: middle;\n",
              "    }\n",
              "\n",
              "    .dataframe tbody tr th {\n",
              "        vertical-align: top;\n",
              "    }\n",
              "\n",
              "    .dataframe thead th {\n",
              "        text-align: right;\n",
              "    }\n",
              "</style>\n",
              "<table border=\"1\" class=\"dataframe\">\n",
              "  <thead>\n",
              "    <tr style=\"text-align: right;\">\n",
              "      <th></th>\n",
              "      <th>Unnamed: 0</th>\n",
              "      <th>id_user</th>\n",
              "      <th>id_post</th>\n",
              "      <th>label</th>\n",
              "      <th>RS</th>\n",
              "      <th>rank_sim_ptrue</th>\n",
              "      <th>top_5</th>\n",
              "      <th>top_10</th>\n",
              "      <th>top_15</th>\n",
              "      <th>top_20</th>\n",
              "      <th>top_25</th>\n",
              "      <th>result_top_5</th>\n",
              "      <th>result_top_10</th>\n",
              "      <th>result_top_15</th>\n",
              "      <th>result_top_20</th>\n",
              "      <th>result_top_25</th>\n",
              "    </tr>\n",
              "  </thead>\n",
              "  <tbody>\n",
              "    <tr>\n",
              "      <th>0</th>\n",
              "      <td>0</td>\n",
              "      <td>179483</td>\n",
              "      <td>16</td>\n",
              "      <td>1</td>\n",
              "      <td>[(16394, 0, 0.03856455087048497), (17555, 0, 0...</td>\n",
              "      <td>(18, 1)</td>\n",
              "      <td>[(16394, 0, 0.03856455087048497), (17555, 0, 0...</td>\n",
              "      <td>[(16394, 0, 0.03856455087048497), (17555, 0, 0...</td>\n",
              "      <td>[(16394, 0, 0.03856455087048497), (17555, 0, 0...</td>\n",
              "      <td>[(16394, 0, 0.03856455087048497), (17555, 0, 0...</td>\n",
              "      <td>[(16394, 0, 0.03856455087048497), (17555, 0, 0...</td>\n",
              "      <td>0</td>\n",
              "      <td>0</td>\n",
              "      <td>0</td>\n",
              "      <td>1</td>\n",
              "      <td>1</td>\n",
              "    </tr>\n",
              "    <tr>\n",
              "      <th>303</th>\n",
              "      <td>303</td>\n",
              "      <td>111027</td>\n",
              "      <td>368</td>\n",
              "      <td>1</td>\n",
              "      <td>[(11180, 0, 0.15163760602892606), (3475, 0, 0....</td>\n",
              "      <td>(3, 1)</td>\n",
              "      <td>[(11180, 0, 0.15163760602892606), (3475, 0, 0....</td>\n",
              "      <td>[(11180, 0, 0.15163760602892606), (3475, 0, 0....</td>\n",
              "      <td>[(11180, 0, 0.15163760602892606), (3475, 0, 0....</td>\n",
              "      <td>[(11180, 0, 0.15163760602892606), (3475, 0, 0....</td>\n",
              "      <td>[(11180, 0, 0.15163760602892606), (3475, 0, 0....</td>\n",
              "      <td>1</td>\n",
              "      <td>1</td>\n",
              "      <td>1</td>\n",
              "      <td>1</td>\n",
              "      <td>1</td>\n",
              "    </tr>\n",
              "    <tr>\n",
              "      <th>404</th>\n",
              "      <td>404</td>\n",
              "      <td>286410</td>\n",
              "      <td>1</td>\n",
              "      <td>1</td>\n",
              "      <td>[(8658, 0, 0.05719841468089858), (11797, 0, 0....</td>\n",
              "      <td>(2, 1)</td>\n",
              "      <td>[(8658, 0, 0.05719841468089858), (11797, 0, 0....</td>\n",
              "      <td>[(8658, 0, 0.05719841468089858), (11797, 0, 0....</td>\n",
              "      <td>[(8658, 0, 0.05719841468089858), (11797, 0, 0....</td>\n",
              "      <td>[(8658, 0, 0.05719841468089858), (11797, 0, 0....</td>\n",
              "      <td>[(8658, 0, 0.05719841468089858), (11797, 0, 0....</td>\n",
              "      <td>1</td>\n",
              "      <td>1</td>\n",
              "      <td>1</td>\n",
              "      <td>1</td>\n",
              "      <td>1</td>\n",
              "    </tr>\n",
              "    <tr>\n",
              "      <th>505</th>\n",
              "      <td>505</td>\n",
              "      <td>147051</td>\n",
              "      <td>214</td>\n",
              "      <td>1</td>\n",
              "      <td>[(14181, 0, 0.30613600812061476), (10261, 0, 0...</td>\n",
              "      <td>(30, 1)</td>\n",
              "      <td>[(14181, 0, 0.30613600812061476), (10261, 0, 0...</td>\n",
              "      <td>[(14181, 0, 0.30613600812061476), (10261, 0, 0...</td>\n",
              "      <td>[(14181, 0, 0.30613600812061476), (10261, 0, 0...</td>\n",
              "      <td>[(14181, 0, 0.30613600812061476), (10261, 0, 0...</td>\n",
              "      <td>[(14181, 0, 0.30613600812061476), (10261, 0, 0...</td>\n",
              "      <td>0</td>\n",
              "      <td>0</td>\n",
              "      <td>0</td>\n",
              "      <td>0</td>\n",
              "      <td>0</td>\n",
              "    </tr>\n",
              "    <tr>\n",
              "      <th>606</th>\n",
              "      <td>606</td>\n",
              "      <td>461826</td>\n",
              "      <td>541</td>\n",
              "      <td>1</td>\n",
              "      <td>[(541, 1, 0.15408798761767478), (18630, 0, 0.1...</td>\n",
              "      <td>(0, 1)</td>\n",
              "      <td>[(541, 1, 0.15408798761767478), (18630, 0, 0.1...</td>\n",
              "      <td>[(541, 1, 0.15408798761767478), (18630, 0, 0.1...</td>\n",
              "      <td>[(541, 1, 0.15408798761767478), (18630, 0, 0.1...</td>\n",
              "      <td>[(541, 1, 0.15408798761767478), (18630, 0, 0.1...</td>\n",
              "      <td>[(541, 1, 0.15408798761767478), (18630, 0, 0.1...</td>\n",
              "      <td>1</td>\n",
              "      <td>1</td>\n",
              "      <td>1</td>\n",
              "      <td>1</td>\n",
              "      <td>1</td>\n",
              "    </tr>\n",
              "    <tr>\n",
              "      <th>...</th>\n",
              "      <td>...</td>\n",
              "      <td>...</td>\n",
              "      <td>...</td>\n",
              "      <td>...</td>\n",
              "      <td>...</td>\n",
              "      <td>...</td>\n",
              "      <td>...</td>\n",
              "      <td>...</td>\n",
              "      <td>...</td>\n",
              "      <td>...</td>\n",
              "      <td>...</td>\n",
              "      <td>...</td>\n",
              "      <td>...</td>\n",
              "      <td>...</td>\n",
              "      <td>...</td>\n",
              "      <td>...</td>\n",
              "    </tr>\n",
              "    <tr>\n",
              "      <th>49894</th>\n",
              "      <td>49894</td>\n",
              "      <td>353666</td>\n",
              "      <td>4613</td>\n",
              "      <td>1</td>\n",
              "      <td>[(5547, 0, 0.1062061187288917), (2267, 0, 0.09...</td>\n",
              "      <td>(9, 1)</td>\n",
              "      <td>[(5547, 0, 0.1062061187288917), (2267, 0, 0.09...</td>\n",
              "      <td>[(5547, 0, 0.1062061187288917), (2267, 0, 0.09...</td>\n",
              "      <td>[(5547, 0, 0.1062061187288917), (2267, 0, 0.09...</td>\n",
              "      <td>[(5547, 0, 0.1062061187288917), (2267, 0, 0.09...</td>\n",
              "      <td>[(5547, 0, 0.1062061187288917), (2267, 0, 0.09...</td>\n",
              "      <td>0</td>\n",
              "      <td>1</td>\n",
              "      <td>1</td>\n",
              "      <td>1</td>\n",
              "      <td>1</td>\n",
              "    </tr>\n",
              "    <tr>\n",
              "      <th>49995</th>\n",
              "      <td>49995</td>\n",
              "      <td>267871</td>\n",
              "      <td>12276</td>\n",
              "      <td>1</td>\n",
              "      <td>[(9977, 0, 0.06505164110530033), (15135, 0, 0....</td>\n",
              "      <td>(37, 1)</td>\n",
              "      <td>[(9977, 0, 0.06505164110530033), (15135, 0, 0....</td>\n",
              "      <td>[(9977, 0, 0.06505164110530033), (15135, 0, 0....</td>\n",
              "      <td>[(9977, 0, 0.06505164110530033), (15135, 0, 0....</td>\n",
              "      <td>[(9977, 0, 0.06505164110530033), (15135, 0, 0....</td>\n",
              "      <td>[(9977, 0, 0.06505164110530033), (15135, 0, 0....</td>\n",
              "      <td>0</td>\n",
              "      <td>0</td>\n",
              "      <td>0</td>\n",
              "      <td>0</td>\n",
              "      <td>0</td>\n",
              "    </tr>\n",
              "    <tr>\n",
              "      <th>50096</th>\n",
              "      <td>50096</td>\n",
              "      <td>342550</td>\n",
              "      <td>8377</td>\n",
              "      <td>1</td>\n",
              "      <td>[(6619, 0, 0.19922834423128755), (16370, 0, 0....</td>\n",
              "      <td>(3, 1)</td>\n",
              "      <td>[(6619, 0, 0.19922834423128755), (16370, 0, 0....</td>\n",
              "      <td>[(6619, 0, 0.19922834423128755), (16370, 0, 0....</td>\n",
              "      <td>[(6619, 0, 0.19922834423128755), (16370, 0, 0....</td>\n",
              "      <td>[(6619, 0, 0.19922834423128755), (16370, 0, 0....</td>\n",
              "      <td>[(6619, 0, 0.19922834423128755), (16370, 0, 0....</td>\n",
              "      <td>1</td>\n",
              "      <td>1</td>\n",
              "      <td>1</td>\n",
              "      <td>1</td>\n",
              "      <td>1</td>\n",
              "    </tr>\n",
              "    <tr>\n",
              "      <th>50298</th>\n",
              "      <td>50298</td>\n",
              "      <td>277065</td>\n",
              "      <td>15390</td>\n",
              "      <td>1</td>\n",
              "      <td>[(9772, 0, 0.09464897208300066), (10341, 0, 0....</td>\n",
              "      <td>(13, 1)</td>\n",
              "      <td>[(9772, 0, 0.09464897208300066), (10341, 0, 0....</td>\n",
              "      <td>[(9772, 0, 0.09464897208300066), (10341, 0, 0....</td>\n",
              "      <td>[(9772, 0, 0.09464897208300066), (10341, 0, 0....</td>\n",
              "      <td>[(9772, 0, 0.09464897208300066), (10341, 0, 0....</td>\n",
              "      <td>[(9772, 0, 0.09464897208300066), (10341, 0, 0....</td>\n",
              "      <td>0</td>\n",
              "      <td>0</td>\n",
              "      <td>1</td>\n",
              "      <td>1</td>\n",
              "      <td>1</td>\n",
              "    </tr>\n",
              "    <tr>\n",
              "      <th>50399</th>\n",
              "      <td>50399</td>\n",
              "      <td>386961</td>\n",
              "      <td>5510</td>\n",
              "      <td>1</td>\n",
              "      <td>[(15469, 0, 0.1348931924669492), (16913, 0, 0....</td>\n",
              "      <td>(17, 1)</td>\n",
              "      <td>[(15469, 0, 0.1348931924669492), (16913, 0, 0....</td>\n",
              "      <td>[(15469, 0, 0.1348931924669492), (16913, 0, 0....</td>\n",
              "      <td>[(15469, 0, 0.1348931924669492), (16913, 0, 0....</td>\n",
              "      <td>[(15469, 0, 0.1348931924669492), (16913, 0, 0....</td>\n",
              "      <td>[(15469, 0, 0.1348931924669492), (16913, 0, 0....</td>\n",
              "      <td>0</td>\n",
              "      <td>0</td>\n",
              "      <td>0</td>\n",
              "      <td>1</td>\n",
              "      <td>1</td>\n",
              "    </tr>\n",
              "  </tbody>\n",
              "</table>\n",
              "<p>351 rows × 16 columns</p>\n",
              "</div>"
            ],
            "text/plain": [
              "       Unnamed: 0  id_user  ...  result_top_20  result_top_25\n",
              "0               0   179483  ...              1              1\n",
              "303           303   111027  ...              1              1\n",
              "404           404   286410  ...              1              1\n",
              "505           505   147051  ...              0              0\n",
              "606           606   461826  ...              1              1\n",
              "...           ...      ...  ...            ...            ...\n",
              "49894       49894   353666  ...              1              1\n",
              "49995       49995   267871  ...              0              0\n",
              "50096       50096   342550  ...              1              1\n",
              "50298       50298   277065  ...              1              1\n",
              "50399       50399   386961  ...              1              1\n",
              "\n",
              "[351 rows x 16 columns]"
            ]
          },
          "metadata": {},
          "execution_count": 28
        }
      ],
      "source": [
        "tf_vectorizer = pickle.load(open(\"/content/drive/MyDrive/DS300/Model_RS_DA/CB/Embedding/TFIDF/tfidf_111_15000.pickle\", \"rb\"))\n",
        "e=evaluation_update(test[test['label']==1],tf_vectorizer,0,p_posted=1,p_commented=0,p_title=1,p_content=0 ,p_tags=1,title=1,content=0 ,tags=1)\n",
        "print('Accuracy: ',e[1])\n",
        "print('NDCG: ',e[2])\n",
        "e[0]\n"
      ]
    },
    {
      "cell_type": "code",
      "source": [
        "#tf_vectorizer = pickle.load(open(\"/content/drive/MyDrive/DS300/Model_RS_DA/CB/Embedding/TFIDF/tfidf_111_15000.pickle\", \"rb\"))\n",
        "e=evaluation_update(test[test['label']==1],modelw2v,'w2v',0,p_posted=1,p_commented=0,p_title=1,p_content=0 ,p_tags=1,title=1,content=0 ,tags=1)\n",
        "print('Accuracy: ',e[1])\n",
        "print('NDCG: ',e[2])\n",
        "e[0]"
      ],
      "metadata": {
        "id": "vtdHNm-88sW1"
      },
      "execution_count": null,
      "outputs": []
    }
  ],
  "metadata": {
    "colab": {
      "name": "CB_LDA.ipynb",
      "provenance": [],
      "collapsed_sections": []
    },
    "kernelspec": {
      "display_name": "Python 3",
      "name": "python3"
    },
    "language_info": {
      "name": "python"
    }
  },
  "nbformat": 4,
  "nbformat_minor": 0
}